{
 "cells": [
  {
   "cell_type": "code",
   "execution_count": null,
   "metadata": {},
   "outputs": [],
   "source": [
    "import time\n",
    "import sys\n",
    "\n",
    "import Utils as u\n",
    "import SequentialSearch as ss\n",
    "import BinarySearch as bs\n",
    "import numpy as np\n",
    "import pandas as pd"
   ]
  },
  {
   "cell_type": "code",
   "execution_count": null,
   "metadata": {},
   "outputs": [],
   "source": [
    "print(\"recursionlimit: \", sys.getrecursionlimit())\n",
    "sys.setrecursionlimit(60000)\n",
    "print(\"recursionlimit: \", sys.getrecursionlimit())"
   ]
  },
  {
   "cell_type": "code",
   "execution_count": null,
   "metadata": {},
   "outputs": [],
   "source": [
    "results = {\n",
    "    \"ss\":[],\n",
    "    \"bs\":[],\n",
    "    \"ll\":[],\n",
    "    \"bst\": []\n",
    "    }\n",
    "\n",
    "lista = []\n",
    "num_inter_range = 3000\n",
    "num_inter_fim = 30000\n",
    "num_inter_atu = 0"
   ]
  },
  {
   "cell_type": "code",
   "execution_count": null,
   "metadata": {},
   "outputs": [],
   "source": [
    "while num_inter_atu < num_inter_fim:\n",
    "    num_inter_atu += num_inter_range\n",
    "    utils = u.Utils(num_inter_atu)\n",
    "    \n",
    "    #\n",
    "    print(\"Init SequentialSearch with: \",num_inter_atu,\" elements\")\n",
    "    sSearch = ss.SequentialSearch()\n",
    "    for index in range(100):\n",
    "        st = time.process_time()\n",
    "        sSearch.sequential_search(utils.rondom_search_item(), utils.get_in_array())\n",
    "        et = time.process_time()\n",
    "        res = (et - st) * 1000\n",
    "        results[\"ss\"].append({\"lentgh\": num_inter_atu, \"time\": res, \"Comparisons\": sSearch.getComparisons()})\n",
    "\n",
    "    print('CPU Execution time:', res, 'milliseconds')\n",
    "    print('Number of comparisons: ', sSearch.getComparisons())\n",
    "    print(\"End SequentialSearch with: \",num_inter_atu,\" elements\")\n",
    "    \n",
    "    #\n",
    "    print(\"\")\n",
    "    #\n",
    "    \n",
    "    print(\"Init BinarySearch with: \",num_inter_atu,\" elements\")\n",
    "    bSearch = bs.BinarySearch()\n",
    "    array = utils.get_in_array()\n",
    "    for index in range(100):\n",
    "        st = time.process_time()\n",
    "        bSearch.search(utils.rondom_search_item(), array, 0, len(array) - 1)\n",
    "        et = time.process_time()\n",
    "        res = (et - st) * 1000\n",
    "        results[\"bs\"].append({\"lentgh\": num_inter_atu, \"time\": res, \"Comparisons\": bSearch.getComparisons()})\n",
    "    print('CPU Execution time:', res, 'milliseconds')\n",
    "    print('Number of comparisons: ', bSearch.getComparisons())\n",
    "    print(\"End BinarySearch with: \",num_inter_atu,\" elements\")\n",
    "\n",
    "    #\n",
    "    print(\"\")\n",
    "    #\n",
    "\n",
    "    print(\"Init LinkedList with: \",num_inter_atu,\" elements\")\n",
    "    array = utils.get_in_linked_list()\n",
    "    for index in range(100):\n",
    "        st = time.process_time()\n",
    "        array.index(utils.rondom_search_item())\n",
    "        et = time.process_time()\n",
    "        res = (et - st) * 1000\n",
    "        results[\"ll\"].append({\"lentgh\": num_inter_atu, \"time\": res, \"Comparisons\": array.getComparisons()})\n",
    "    print('CPU Execution time:', res, 'milliseconds')\n",
    "    print('Number of comparisons: ', array.getComparisons())\n",
    "    print(\"End LinkedList with: \",num_inter_atu,\" elements\")\n",
    "\n",
    "    #\n",
    "    print(\"\")\n",
    "    #\n",
    "\n",
    "    print(\"Init BinarySearchTree with: \",num_inter_atu,\" elements\")\n",
    "    array = utils.get_in_binary_tree()\n",
    "    for index in range(100):\n",
    "        st = time.process_time()\n",
    "        array.find_node(utils.rondom_search_item())\n",
    "        et = time.process_time()\n",
    "        res = (et - st) * 1000\n",
    "        results[\"bst\"].append({\"lentgh\": num_inter_atu, \"time\": res, \"Comparisons\": array.getComparisons(), \"height\": array.height(0)})\n",
    "    print('CPU Execution time:', res, 'milliseconds')\n",
    "    print('Number of comparisons: ', array.getComparisons())\n",
    "    print(\"End BinarySearchTree with: \",num_inter_atu,\" elements\")\n",
    "  "
   ]
  },
  {
   "cell_type": "code",
   "execution_count": null,
   "metadata": {},
   "outputs": [],
   "source": [
    "#print(\"results: \", results)\n",
    "\n",
    "#ss\n",
    "print(\"results: \", results[\"ss\"])"
   ]
  },
  {
   "cell_type": "code",
   "execution_count": 15,
   "metadata": {},
   "outputs": [
    {
     "ename": "NameError",
     "evalue": "name 'num_inter_fim' is not defined",
     "output_type": "error",
     "traceback": [
      "\u001b[0;31m---------------------------------------------------------------------------\u001b[0m",
      "\u001b[0;31mNameError\u001b[0m                                 Traceback (most recent call last)",
      "Cell \u001b[0;32mIn[15], line 16\u001b[0m\n\u001b[1;32m     13\u001b[0m data_show[\u001b[39m\"\u001b[39m\u001b[39mHeight AVG\u001b[39m\u001b[39m\"\u001b[39m] \u001b[39m=\u001b[39m []\n\u001b[1;32m     14\u001b[0m data_show[\u001b[39m\"\u001b[39m\u001b[39mHeight STD\u001b[39m\u001b[39m\"\u001b[39m] \u001b[39m=\u001b[39m []\n\u001b[0;32m---> 16\u001b[0m \u001b[39mwhile\u001b[39;00m lentgh_value \u001b[39m<\u001b[39m num_inter_fim:\n\u001b[1;32m     17\u001b[0m     lentgh_value \u001b[39m+\u001b[39m\u001b[39m=\u001b[39m num_inter_range\n\u001b[1;32m     18\u001b[0m     data_show[\u001b[39m\"\u001b[39m\u001b[39mNome\u001b[39m\u001b[39m\"\u001b[39m] \u001b[39m=\u001b[39m data_show[\u001b[39m\"\u001b[39m\u001b[39mNome\u001b[39m\u001b[39m\"\u001b[39m] \u001b[39m+\u001b[39m[\n\u001b[1;32m     19\u001b[0m             \u001b[39m\"\u001b[39m\u001b[39mSequential Search \u001b[39m\u001b[39m\"\u001b[39m \u001b[39m+\u001b[39m \u001b[39mstr\u001b[39m(lentgh_value), \n\u001b[1;32m     20\u001b[0m             \u001b[39m\"\u001b[39m\u001b[39mBinary Search \u001b[39m\u001b[39m\"\u001b[39m \u001b[39m+\u001b[39m \u001b[39mstr\u001b[39m(lentgh_value),\n\u001b[1;32m     21\u001b[0m             \u001b[39m\"\u001b[39m\u001b[39mLinked List Search \u001b[39m\u001b[39m\"\u001b[39m \u001b[39m+\u001b[39m \u001b[39mstr\u001b[39m(lentgh_value),\n\u001b[1;32m     22\u001b[0m             \u001b[39m\"\u001b[39m\u001b[39mBinary Search Tree \u001b[39m\u001b[39m\"\u001b[39m \u001b[39m+\u001b[39m \u001b[39mstr\u001b[39m(lentgh_value)\n\u001b[1;32m     23\u001b[0m                         ]\n",
      "\u001b[0;31mNameError\u001b[0m: name 'num_inter_fim' is not defined"
     ]
    }
   ],
   "source": [
    "# def prepare_data():\n",
    "#     global num_inter_fim, num_inter_range\n",
    "data_show = {}\n",
    "lentgh_value = 0\n",
    "\n",
    "data_show[\"Nome\"] = []\n",
    "data_show[\"AVG Time (ns)\"] = []\n",
    "data_show[\"AVG Comparisons\"] = []\n",
    "data_show[\"STD Time (ns)\"] = []\n",
    "data_show[\"STD Comparisons\"] = []\n",
    "data_show[\"Worse Time (ns)\"] = []\n",
    "data_show[\"Worse Comparisons\"] = []\n",
    "data_show[\"Height AVG\"] = []\n",
    "data_show[\"Height STD\"] = []\n",
    "\n",
    "while lentgh_value < num_inter_fim:\n",
    "    lentgh_value += num_inter_range\n",
    "    data_show[\"Nome\"] = data_show[\"Nome\"] +[\n",
    "            \"Sequential Search \" + str(lentgh_value), \n",
    "            \"Binary Search \" + str(lentgh_value),\n",
    "            \"Linked List Search \" + str(lentgh_value),\n",
    "            \"Binary Search Tree \" + str(lentgh_value)\n",
    "                        ]\n",
    "    \n",
    "    data_show[\"AVG Time\"] = data_show[\"AVG Time\"] +[\n",
    "        np.average([item[\"time\"] for item in results[\"ss\"] if item[\"lentgh\"] == lentgh_value]), \n",
    "        np.average([item[\"time\"] for item in results[\"bs\"] if item[\"lentgh\"] == lentgh_value]), \n",
    "        np.average([item[\"time\"] for item in results[\"ll\"] if item[\"lentgh\"] == lentgh_value]),\n",
    "        np.average([item[\"time\"] for item in results[\"bst\"] if item[\"lentgh\"] == lentgh_value])\n",
    "        ]\n",
    "\n",
    "\n",
    "    data_show[\"AVG Comparisons\"] = data_show[\"AVG Comparisons\"] + [\n",
    "        np.average([item[\"Comparisons\"] for item in results[\"ss\"] if item[\"lentgh\"] == lentgh_value]), \n",
    "        np.average([item[\"Comparisons\"] for item in results[\"bs\"] if item[\"lentgh\"] == lentgh_value]), \n",
    "        np.average([item[\"Comparisons\"] for item in results[\"ll\"] if item[\"lentgh\"] == lentgh_value]),\n",
    "        np.average([item[\"Comparisons\"] for item in results[\"bst\"] if item[\"lentgh\"] == lentgh_value])\n",
    "        ]\n",
    "\n",
    "    data_show[\"STD Time\"] = data_show[\"STD Time\"] + [\n",
    "        np.std([item[\"time\"] for item in results[\"ss\"] if item[\"lentgh\"] == lentgh_value]), \n",
    "        np.std([item[\"time\"] for item in results[\"bs\"] if item[\"lentgh\"] == lentgh_value]), \n",
    "        np.std([item[\"time\"] for item in results[\"ll\"] if item[\"lentgh\"] == lentgh_value]),\n",
    "        np.std([item[\"time\"] for item in results[\"bst\"] if item[\"lentgh\"] == lentgh_value])\n",
    "        ]\n",
    "\n",
    "\n",
    "    data_show[\"STD Comparisons\"] = data_show[\"STD Comparisons\"] + [\n",
    "        np.std([item[\"Comparisons\"] for item in results[\"ss\"] if item[\"lentgh\"] == lentgh_value]), \n",
    "        np.std([item[\"Comparisons\"] for item in results[\"bs\"] if item[\"lentgh\"] == lentgh_value]), \n",
    "        np.std([item[\"Comparisons\"] for item in results[\"ll\"] if item[\"lentgh\"] == lentgh_value]),\n",
    "        np.std([item[\"Comparisons\"] for item in results[\"bst\"] if item[\"lentgh\"] == lentgh_value])\n",
    "        ]\n",
    "\n",
    "    data_show[\"Worse Time\"] = data_show[\"Worse Time\"] + [\n",
    "        np.max([item[\"time\"] for item in results[\"ss\"] if item[\"lentgh\"] == lentgh_value]), \n",
    "        np.max([item[\"time\"] for item in results[\"bs\"] if item[\"lentgh\"] == lentgh_value]), \n",
    "        np.max([item[\"time\"] for item in results[\"ll\"] if item[\"lentgh\"] == lentgh_value]),\n",
    "        np.max([item[\"time\"] for item in results[\"bst\"] if item[\"lentgh\"] == lentgh_value])\n",
    "        ]\n",
    "\n",
    "\n",
    "    data_show[\"Worse Comparisons\"] = data_show[\"Worse Comparisons\"] + [\n",
    "        np.max([item[\"Comparisons\"] for item in results[\"ss\"] if item[\"lentgh\"] == lentgh_value]), \n",
    "        np.max([item[\"Comparisons\"] for item in results[\"bs\"] if item[\"lentgh\"] == lentgh_value]), \n",
    "        np.max([item[\"Comparisons\"] for item in results[\"ll\"] if item[\"lentgh\"] == lentgh_value]),\n",
    "        np.max([item[\"Comparisons\"] for item in results[\"bst\"] if item[\"lentgh\"] == lentgh_value])\n",
    "        ]\n",
    "    \n",
    "    data_show[\"Height AVG\"] = data_show[\"Height AVG\"] + [\n",
    "        0, \n",
    "        0, \n",
    "        0,\n",
    "        np.average([item[\"height\"] for item in results[\"bst\"] if item[\"lentgh\"] == lentgh_value])\n",
    "        ]\n",
    "    \n",
    "    data_show[\"Height STD\"] = data_show[\"Height STD\"] + [\n",
    "        0, \n",
    "        0, \n",
    "        0,\n",
    "        np.std([item[\"height\"] for item in results[\"bst\"] if item[\"lentgh\"] == lentgh_value])\n",
    "        ]\n",
    "    \n",
    "    # print(\"average\", np.average([item[\"height\"] for item in results[\"bst\"] if item[\"lentgh\"] == 3000]))\n",
    "    # print(\"std\", np.std([item[\"height\"] for item in results[\"bst\"] if item[\"lentgh\"] == 3000]))\n",
    "    \n",
    "    # return data_show\n",
    "\n",
    "    #df = pd.DataFrame(data_show)\n",
    "\n",
    "    #print(df)\n",
    "\n",
    "    #listDf.append(df)\n",
    "\n",
    "# \"ss\"\n",
    "# \"bs\"\n",
    "# \"ll\"\n",
    "# \"bst\"\n"
   ]
  },
  {
   "cell_type": "code",
   "execution_count": null,
   "metadata": {},
   "outputs": [],
   "source": [
    "dictfilt = lambda x, y: dict([ (i,x[i]) for i in x if i in set(y) ])"
   ]
  },
  {
   "cell_type": "code",
   "execution_count": null,
   "metadata": {},
   "outputs": [],
   "source": [
    "# data_show = prepare_data()\n",
    "df = pd.DataFrame(dictfilt(data_show, (\"Nome\", \"AVG Time\", \"AVG Comparisons\")))\n",
    "df.to_csv('Results_avg.csv', index=False)"
   ]
  },
  {
   "cell_type": "code",
   "execution_count": null,
   "metadata": {},
   "outputs": [],
   "source": [
    "data_show = prepare_data(9000)\n",
    "df = pd.DataFrame(data_show)\n",
    "df"
   ]
  },
  {
   "cell_type": "code",
   "execution_count": null,
   "metadata": {},
   "outputs": [],
   "source": [
    "data_show = prepare_data(12000)\n",
    "df = pd.DataFrame(data_show)\n",
    "df"
   ]
  },
  {
   "cell_type": "code",
   "execution_count": null,
   "metadata": {},
   "outputs": [],
   "source": [
    "data_show = prepare_data(15000)\n",
    "df = pd.DataFrame(data_show)\n",
    "df"
   ]
  },
  {
   "cell_type": "code",
   "execution_count": null,
   "metadata": {},
   "outputs": [],
   "source": [
    "data_show = prepare_data(18000)\n",
    "df = pd.DataFrame(data_show)\n",
    "df"
   ]
  },
  {
   "cell_type": "code",
   "execution_count": null,
   "metadata": {},
   "outputs": [],
   "source": [
    "data_show = prepare_data(21000)\n",
    "df = pd.DataFrame(data_show)\n",
    "df"
   ]
  },
  {
   "cell_type": "code",
   "execution_count": null,
   "metadata": {},
   "outputs": [],
   "source": [
    "data_show = prepare_data(24000)\n",
    "df = pd.DataFrame(data_show)\n",
    "df"
   ]
  },
  {
   "cell_type": "code",
   "execution_count": null,
   "metadata": {},
   "outputs": [],
   "source": [
    "data_show = prepare_data(27000)\n",
    "df = pd.DataFrame(data_show)\n",
    "df"
   ]
  },
  {
   "cell_type": "code",
   "execution_count": null,
   "metadata": {},
   "outputs": [],
   "source": [
    "data_show = prepare_data(30000)\n",
    "df = pd.DataFrame(data_show)\n",
    "df"
   ]
  },
  {
   "cell_type": "code",
   "execution_count": null,
   "metadata": {},
   "outputs": [],
   "source": [
    "print(\"average\", np.average([item[\"height\"] for item in results[\"bst\"] if item[\"lentgh\"] == 3000]))\n",
    "print(\"std\", np.std([item[\"height\"] for item in results[\"bst\"] if item[\"lentgh\"] == 3000]))"
   ]
  }
 ],
 "metadata": {
  "kernelspec": {
   "display_name": "Python 3",
   "language": "python",
   "name": "python3"
  },
  "language_info": {
   "codemirror_mode": {
    "name": "ipython",
    "version": 3
   },
   "file_extension": ".py",
   "mimetype": "text/x-python",
   "name": "python",
   "nbconvert_exporter": "python",
   "pygments_lexer": "ipython3",
   "version": "3.9.12"
  },
  "orig_nbformat": 4
 },
 "nbformat": 4,
 "nbformat_minor": 2
}
